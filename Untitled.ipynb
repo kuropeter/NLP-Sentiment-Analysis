{
 "cells": [
  {
   "cell_type": "code",
   "execution_count": 1,
   "id": "1fc5b640-0110-480a-a5cc-942aa370db80",
   "metadata": {
    "tags": []
   },
   "outputs": [],
   "source": [
    "import numpy as np\n",
    "import pandas as pd\n",
    "import matplotlib.pyplot as plt\n",
    "import seaborn as sns"
   ]
  },
  {
   "cell_type": "code",
   "execution_count": 2,
   "id": "7362085d-23e9-42a5-ac8c-4032b4f64314",
   "metadata": {
    "tags": []
   },
   "outputs": [],
   "source": [
    "#importing data\n",
    "df = pd.read_csv('data.csv')"
   ]
  },
  {
   "cell_type": "code",
   "execution_count": 3,
   "id": "e54a15eb-63aa-49d8-8243-698dc481073a",
   "metadata": {
    "tags": []
   },
   "outputs": [
    {
     "data": {
      "text/html": [
       "<div>\n",
       "<style scoped>\n",
       "    .dataframe tbody tr th:only-of-type {\n",
       "        vertical-align: middle;\n",
       "    }\n",
       "\n",
       "    .dataframe tbody tr th {\n",
       "        vertical-align: top;\n",
       "    }\n",
       "\n",
       "    .dataframe thead th {\n",
       "        text-align: right;\n",
       "    }\n",
       "</style>\n",
       "<table border=\"1\" class=\"dataframe\">\n",
       "  <thead>\n",
       "    <tr style=\"text-align: right;\">\n",
       "      <th></th>\n",
       "      <th>Unnamed: 0</th>\n",
       "      <th>Username</th>\n",
       "      <th>Location</th>\n",
       "      <th>Total Review</th>\n",
       "      <th>Date of Experience</th>\n",
       "      <th>Content</th>\n",
       "      <th>Rating</th>\n",
       "    </tr>\n",
       "  </thead>\n",
       "  <tbody>\n",
       "    <tr>\n",
       "      <th>0</th>\n",
       "      <td>0</td>\n",
       "      <td>Christopher Smith</td>\n",
       "      <td>GB</td>\n",
       "      <td>3reviews</td>\n",
       "      <td>January 30, 2024</td>\n",
       "      <td>I have been shopping with AliExpress for some ...</td>\n",
       "      <td>4</td>\n",
       "    </tr>\n",
       "    <tr>\n",
       "      <th>1</th>\n",
       "      <td>1</td>\n",
       "      <td>blarp.tha.alien</td>\n",
       "      <td>AU</td>\n",
       "      <td>1review</td>\n",
       "      <td>May 16, 2024</td>\n",
       "      <td>AliExpress is Legit a great place to find amaz...</td>\n",
       "      <td>5</td>\n",
       "    </tr>\n",
       "    <tr>\n",
       "      <th>2</th>\n",
       "      <td>2</td>\n",
       "      <td>Margarita Chavez Villalobos</td>\n",
       "      <td>US</td>\n",
       "      <td>3reviews</td>\n",
       "      <td>May 13, 2024</td>\n",
       "      <td>AliExpress does pretty good on delivering SMAL...</td>\n",
       "      <td>3</td>\n",
       "    </tr>\n",
       "    <tr>\n",
       "      <th>3</th>\n",
       "      <td>3</td>\n",
       "      <td>Mario Alzate</td>\n",
       "      <td>US</td>\n",
       "      <td>1review</td>\n",
       "      <td>May 18, 2024</td>\n",
       "      <td>Well, if you educate yourself just a little on...</td>\n",
       "      <td>5</td>\n",
       "    </tr>\n",
       "    <tr>\n",
       "      <th>4</th>\n",
       "      <td>4</td>\n",
       "      <td>AE user</td>\n",
       "      <td>US</td>\n",
       "      <td>1review</td>\n",
       "      <td>May 04, 2024</td>\n",
       "      <td>Found some nice deals, but also ran into a sca...</td>\n",
       "      <td>5</td>\n",
       "    </tr>\n",
       "  </tbody>\n",
       "</table>\n",
       "</div>"
      ],
      "text/plain": [
       "   Unnamed: 0                     Username Location Total Review  \\\n",
       "0           0            Christopher Smith       GB     3reviews   \n",
       "1           1              blarp.tha.alien       AU      1review   \n",
       "2           2  Margarita Chavez Villalobos       US     3reviews   \n",
       "3           3                 Mario Alzate       US      1review   \n",
       "4           4                      AE user       US      1review   \n",
       "\n",
       "  Date of Experience                                            Content  \\\n",
       "0   January 30, 2024  I have been shopping with AliExpress for some ...   \n",
       "1       May 16, 2024  AliExpress is Legit a great place to find amaz...   \n",
       "2       May 13, 2024  AliExpress does pretty good on delivering SMAL...   \n",
       "3       May 18, 2024  Well, if you educate yourself just a little on...   \n",
       "4       May 04, 2024  Found some nice deals, but also ran into a sca...   \n",
       "\n",
       "   Rating  \n",
       "0       4  \n",
       "1       5  \n",
       "2       3  \n",
       "3       5  \n",
       "4       5  "
      ]
     },
     "execution_count": 3,
     "metadata": {},
     "output_type": "execute_result"
    }
   ],
   "source": [
    "df.head()"
   ]
  },
  {
   "cell_type": "code",
   "execution_count": null,
   "id": "aef20cb2-5248-44ea-8c56-e7da747b0a7e",
   "metadata": {},
   "outputs": [],
   "source": [
    "# df['Total Review'].str."
   ]
  },
  {
   "cell_type": "code",
   "execution_count": 4,
   "id": "5df9c21d-714e-4d88-8900-3f3294d042e5",
   "metadata": {
    "tags": []
   },
   "outputs": [],
   "source": [
    "# df[df['Username'] == 'Margarita Chavez Villalobos']"
   ]
  },
  {
   "cell_type": "code",
   "execution_count": 5,
   "id": "0fc474a1-38f2-4778-936e-5343208a56e2",
   "metadata": {
    "tags": []
   },
   "outputs": [
    {
     "data": {
      "text/plain": [
       "46100"
      ]
     },
     "execution_count": 5,
     "metadata": {},
     "output_type": "execute_result"
    }
   ],
   "source": [
    "#number of reviews\n",
    "df.shape[0]"
   ]
  },
  {
   "cell_type": "code",
   "execution_count": 33,
   "id": "d20892dd-fcbc-4dbd-b2b8-d95488fe7cf1",
   "metadata": {
    "tags": []
   },
   "outputs": [
    {
     "data": {
      "text/plain": [
       "Unnamed: 0            0.0\n",
       "Username              0.0\n",
       "Location              0.0\n",
       "Total Review          0.0\n",
       "Date of Experience    0.0\n",
       "Content               0.0\n",
       "Rating                0.0\n",
       "review_length         0.0\n",
       "rating_type           0.0\n",
       "dtype: float64"
      ]
     },
     "execution_count": 33,
     "metadata": {},
     "output_type": "execute_result"
    }
   ],
   "source": [
    "# Percentage of missing values\n",
    "df.isna().sum()/len(df)*100"
   ]
  },
  {
   "cell_type": "code",
   "execution_count": 7,
   "id": "fda9c0bd-436a-44e9-8048-e832e4947611",
   "metadata": {
    "tags": []
   },
   "outputs": [],
   "source": [
    "df.dropna(inplace=True)"
   ]
  },
  {
   "cell_type": "code",
   "execution_count": 8,
   "id": "2aeade04-a993-405b-a288-7cd70517a903",
   "metadata": {
    "tags": []
   },
   "outputs": [
    {
     "data": {
      "text/plain": [
       "0"
      ]
     },
     "execution_count": 8,
     "metadata": {},
     "output_type": "execute_result"
    }
   ],
   "source": [
    "df.duplicated().sum()"
   ]
  },
  {
   "cell_type": "code",
   "execution_count": 9,
   "id": "c1513dee-c694-416d-9fd5-f50930eb48a3",
   "metadata": {
    "tags": []
   },
   "outputs": [
    {
     "data": {
      "text/plain": [
       "Unnamed: 0             int64\n",
       "Username              object\n",
       "Location              object\n",
       "Total Review          object\n",
       "Date of Experience    object\n",
       "Content               object\n",
       "Rating                 int64\n",
       "dtype: object"
      ]
     },
     "execution_count": 9,
     "metadata": {},
     "output_type": "execute_result"
    }
   ],
   "source": [
    "df.dtypes"
   ]
  },
  {
   "cell_type": "code",
   "execution_count": 36,
   "id": "e89a4da9-5d8a-4408-8ce6-8043bd84921c",
   "metadata": {
    "tags": []
   },
   "outputs": [],
   "source": [
    "# removing review from total review\n",
    "df['Total_Review'] = df['Total Review'].str.split('r', expand=True)[0]"
   ]
  },
  {
   "cell_type": "code",
   "execution_count": 10,
   "id": "6a72273d-7e76-41c5-9ab9-471a8465795d",
   "metadata": {
    "tags": []
   },
   "outputs": [
    {
     "data": {
      "text/plain": [
       "'I have been shopping with AliExpress for some time now. I only ever chose \"Choice\" deliveries because I don\\'t want to wait 4 to 6 weeks for my delivery. If you filter by \"Choice\" deliveries you should receive your item in about 7-8 days. I\\'ve only had a problem with 1 seller who never delivered my item. AliExpress took their time resolving the issue, so they miss out on a star for that.'"
      ]
     },
     "execution_count": 10,
     "metadata": {},
     "output_type": "execute_result"
    }
   ],
   "source": [
    "df['Content'][0]"
   ]
  },
  {
   "cell_type": "code",
   "execution_count": 11,
   "id": "01f4cca0-dbca-4413-b58e-aa603be51961",
   "metadata": {
    "tags": []
   },
   "outputs": [],
   "source": [
    "df['review_length']  = df['Content'].apply(len)"
   ]
  },
  {
   "cell_type": "code",
   "execution_count": 12,
   "id": "706e5803-ebe9-4f52-806b-45ff94f7e6a7",
   "metadata": {
    "tags": []
   },
   "outputs": [
    {
     "data": {
      "text/plain": [
       "0         389\n",
       "1         326\n",
       "2         181\n",
       "3         208\n",
       "4         524\n",
       "         ... \n",
       "46095     111\n",
       "46096    2081\n",
       "46097     447\n",
       "46098     165\n",
       "46099    1331\n",
       "Name: review_length, Length: 36706, dtype: int64"
      ]
     },
     "execution_count": 12,
     "metadata": {},
     "output_type": "execute_result"
    }
   ],
   "source": [
    "df['review_length']"
   ]
  },
  {
   "cell_type": "code",
   "execution_count": 13,
   "id": "44161d46-4c34-4b55-9f15-9693d4f3c1c9",
   "metadata": {
    "tags": []
   },
   "outputs": [
    {
     "data": {
      "text/plain": [
       "<Axes: xlabel='Rating', ylabel='count'>"
      ]
     },
     "execution_count": 13,
     "metadata": {},
     "output_type": "execute_result"
    },
    {
     "data": {
      "image/png": "[encoded data removed]",
      "text/plain": [
       "<Figure size 640x480 with 1 Axes>"
      ]
     },
     "metadata": {},
     "output_type": "display_data"
    }
   ],
   "source": [
    "sns.countplot(x=df['Rating'])"
   ]
  },
  {
   "cell_type": "code",
   "execution_count": 14,
   "id": "e4531e70-c487-4e9c-91b3-97730f0063c6",
   "metadata": {
    "tags": []
   },
   "outputs": [
    {
     "data": {
      "text/plain": [
       "Rating\n",
       "5    61.0\n",
       "1    28.0\n",
       "4     5.0\n",
       "3     3.0\n",
       "2     2.0\n",
       "Name: count, dtype: float64"
      ]
     },
     "execution_count": 14,
     "metadata": {},
     "output_type": "execute_result"
    }
   ],
   "source": [
    "# Precentage of ratings\n",
    "round(df['Rating'].value_counts()/len(df)*100,)"
   ]
  },
  {
   "cell_type": "code",
   "execution_count": 23,
   "id": "202e222a-37c2-4d47-b4c5-c2484e7981d8",
   "metadata": {
    "tags": []
   },
   "outputs": [
    {
     "data": {
      "text/plain": [
       "list"
      ]
     },
     "execution_count": 23,
     "metadata": {},
     "output_type": "execute_result"
    }
   ],
   "source": [
    "type(bucket)"
   ]
  },
  {
   "cell_type": "code",
   "execution_count": 24,
   "id": "14ca712a-743f-4487-8259-461405e5f6f3",
   "metadata": {
    "tags": []
   },
   "outputs": [],
   "source": [
    "# Create columns for negative and positive reviews 1 = positive, 0 = negative\n",
    "bucket = []\n",
    "for rating in df['Rating']:\n",
    "    if rating >= 3:\n",
    "        bucket.append(1)\n",
    "    else:\n",
    "        bucket.append(0)\n",
    "# pd.Series(bucket)\n",
    "df['rating_type'] = bucket\n"
   ]
  },
  {
   "cell_type": "code",
   "execution_count": 22,
   "id": "3b590ec9-6412-4caa-8a4b-a65f28e243ac",
   "metadata": {
    "tags": []
   },
   "outputs": [
    {
     "data": {
      "text/html": [
       "<div>\n",
       "<style scoped>\n",
       "    .dataframe tbody tr th:only-of-type {\n",
       "        vertical-align: middle;\n",
       "    }\n",
       "\n",
       "    .dataframe tbody tr th {\n",
       "        vertical-align: top;\n",
       "    }\n",
       "\n",
       "    .dataframe thead th {\n",
       "        text-align: right;\n",
       "    }\n",
       "</style>\n",
       "<table border=\"1\" class=\"dataframe\">\n",
       "  <thead>\n",
       "    <tr style=\"text-align: right;\">\n",
       "      <th></th>\n",
       "      <th>rating_type</th>\n",
       "      <th>Rating</th>\n",
       "    </tr>\n",
       "  </thead>\n",
       "  <tbody>\n",
       "    <tr>\n",
       "      <th>34021</th>\n",
       "      <td>1</td>\n",
       "      <td>5</td>\n",
       "    </tr>\n",
       "    <tr>\n",
       "      <th>3597</th>\n",
       "      <td>0</td>\n",
       "      <td>1</td>\n",
       "    </tr>\n",
       "    <tr>\n",
       "      <th>23223</th>\n",
       "      <td>1</td>\n",
       "      <td>5</td>\n",
       "    </tr>\n",
       "    <tr>\n",
       "      <th>43782</th>\n",
       "      <td>0</td>\n",
       "      <td>1</td>\n",
       "    </tr>\n",
       "    <tr>\n",
       "      <th>9132</th>\n",
       "      <td>0</td>\n",
       "      <td>1</td>\n",
       "    </tr>\n",
       "    <tr>\n",
       "      <th>20352</th>\n",
       "      <td>1</td>\n",
       "      <td>5</td>\n",
       "    </tr>\n",
       "    <tr>\n",
       "      <th>1526</th>\n",
       "      <td>0</td>\n",
       "      <td>1</td>\n",
       "    </tr>\n",
       "    <tr>\n",
       "      <th>32272</th>\n",
       "      <td>1</td>\n",
       "      <td>5</td>\n",
       "    </tr>\n",
       "    <tr>\n",
       "      <th>8472</th>\n",
       "      <td>0</td>\n",
       "      <td>1</td>\n",
       "    </tr>\n",
       "    <tr>\n",
       "      <th>2920</th>\n",
       "      <td>0</td>\n",
       "      <td>1</td>\n",
       "    </tr>\n",
       "  </tbody>\n",
       "</table>\n",
       "</div>"
      ],
      "text/plain": [
       "       rating_type  Rating\n",
       "34021            1       5\n",
       "3597             0       1\n",
       "23223            1       5\n",
       "43782            0       1\n",
       "9132             0       1\n",
       "20352            1       5\n",
       "1526             0       1\n",
       "32272            1       5\n",
       "8472             0       1\n",
       "2920             0       1"
      ]
     },
     "execution_count": 22,
     "metadata": {},
     "output_type": "execute_result"
    }
   ],
   "source": [
    "df[['rating_type', 'Rating']].sample(10)"
   ]
  },
  {
   "cell_type": "code",
   "execution_count": 29,
   "id": "219dc9c1-266b-4fdd-a7db-2f36eb082dee",
   "metadata": {
    "tags": []
   },
   "outputs": [
    {
     "data": {
      "image/png": "[encoded data removed]",
      "text/plain": [
       "<Figure size 640x480 with 1 Axes>"
      ]
     },
     "metadata": {},
     "output_type": "display_data"
    }
   ],
   "source": [
    "sns.countplot(x=df['rating_type']);"
   ]
  },
  {
   "cell_type": "code",
   "execution_count": 18,
   "id": "c3185061-2b79-48e6-b122-4ca7ee85f83e",
   "metadata": {
    "tags": []
   },
   "outputs": [],
   "source": [
    "df['Date of Experience'] = pd.to_datetime(df['Date of Experience'], format = \"mixed\")"
   ]
  },
  {
   "cell_type": "code",
   "execution_count": 27,
   "id": "b4de4dc2-844b-4367-aed9-90bd376ebf15",
   "metadata": {
    "tags": []
   },
   "outputs": [
    {
     "data": {
      "image/png": "[encoded data removed]",
      "text/plain": [
       "<Figure size 1000x1000 with 1 Axes>"
      ]
     },
     "metadata": {},
     "output_type": "display_data"
    }
   ],
   "source": [
    "# Reviews over time\n",
    "plt.figure(figsize=(10,10))\n",
    "sns.countplot(x=df['Date of Experience'].dt.year);"
   ]
  },
  {
   "cell_type": "code",
   "execution_count": 30,
   "id": "e7305841-207c-496e-8a55-1dc2cbd316f2",
   "metadata": {},
   "outputs": [
    {
     "data": {
      "text/plain": [
       "Index(['Unnamed: 0', 'Username', 'Location', 'Total Review',\n",
       "       'Date of Experience', 'Content', 'Rating', 'review_length',\n",
       "       'rating_type'],\n",
       "      dtype='object')"
      ]
     },
     "execution_count": 30,
     "metadata": {},
     "output_type": "execute_result"
    }
   ],
   "source": [
    "df.columns"
   ]
  },
  {
   "cell_type": "code",
   "execution_count": 38,
   "id": "32486451-3bd2-4a65-aa15-98d1598d8b4d",
   "metadata": {
    "tags": []
   },
   "outputs": [
    {
     "data": {
      "image/png": "[encoded data removed]",
      "text/plain": [
       "<Figure size 640x480 with 1 Axes>"
      ]
     },
     "metadata": {},
     "output_type": "display_data"
    }
   ],
   "source": [
    "# length of positive/negative reviews\n",
    "sns.barplot(data=df, y='review_length', x='rating_type');"
   ]
  },
  {
   "cell_type": "code",
   "execution_count": 42,
   "id": "f15af459-68fd-43be-ba26-765d046ea20c",
   "metadata": {
    "tags": []
   },
   "outputs": [
    {
     "data": {
      "text/plain": [
       "rating_type\n",
       "0    533.509512\n",
       "1    141.908246\n",
       "Name: review_length, dtype: float64"
      ]
     },
     "execution_count": 42,
     "metadata": {},
     "output_type": "execute_result"
    }
   ],
   "source": [
    "df.groupby('rating_type')['review_length'].mean()"
   ]
  },
  {
   "cell_type": "code",
   "execution_count": 39,
   "id": "10b77f25-b8cb-49bc-8e49-dbac3bc40863",
   "metadata": {
    "tags": []
   },
   "outputs": [
    {
     "data": {
      "text/html": [
       "<div>\n",
       "<style scoped>\n",
       "    .dataframe tbody tr th:only-of-type {\n",
       "        vertical-align: middle;\n",
       "    }\n",
       "\n",
       "    .dataframe tbody tr th {\n",
       "        vertical-align: top;\n",
       "    }\n",
       "\n",
       "    .dataframe thead th {\n",
       "        text-align: right;\n",
       "    }\n",
       "</style>\n",
       "<table border=\"1\" class=\"dataframe\">\n",
       "  <thead>\n",
       "    <tr style=\"text-align: right;\">\n",
       "      <th></th>\n",
       "      <th>Unnamed: 0</th>\n",
       "      <th>Username</th>\n",
       "      <th>Location</th>\n",
       "      <th>Total Review</th>\n",
       "      <th>Date of Experience</th>\n",
       "      <th>Content</th>\n",
       "      <th>Rating</th>\n",
       "      <th>review_length</th>\n",
       "      <th>rating_type</th>\n",
       "      <th>Total_Review</th>\n",
       "    </tr>\n",
       "  </thead>\n",
       "  <tbody>\n",
       "    <tr>\n",
       "      <th>0</th>\n",
       "      <td>0</td>\n",
       "      <td>Christopher Smith</td>\n",
       "      <td>GB</td>\n",
       "      <td>3reviews</td>\n",
       "      <td>2024-01-30</td>\n",
       "      <td>I have been shopping with AliExpress for some ...</td>\n",
       "      <td>4</td>\n",
       "      <td>389</td>\n",
       "      <td>1</td>\n",
       "      <td>3</td>\n",
       "    </tr>\n",
       "  </tbody>\n",
       "</table>\n",
       "</div>"
      ],
      "text/plain": [
       "   Unnamed: 0           Username Location Total Review Date of Experience  \\\n",
       "0           0  Christopher Smith       GB     3reviews         2024-01-30   \n",
       "\n",
       "                                             Content  Rating  review_length  \\\n",
       "0  I have been shopping with AliExpress for some ...       4            389   \n",
       "\n",
       "   rating_type Total_Review  \n",
       "0            1            3  "
      ]
     },
     "execution_count": 39,
     "metadata": {},
     "output_type": "execute_result"
    }
   ],
   "source": [
    "df.head(1)"
   ]
  },
  {
   "cell_type": "code",
   "execution_count": null,
   "id": "e81eff2f-9ca5-4d1e-ab0c-2d8f0107b26b",
   "metadata": {},
   "outputs": [],
   "source": []
  }
 ],
 "metadata": {
  "kernelspec": {
   "display_name": "Python 3 (ipykernel)",
   "language": "python",
   "name": "python3"
  },
  "language_info": {
   "codemirror_mode": {
    "name": "ipython",
    "version": 3
   },
   "file_extension": ".py",
   "mimetype": "text/x-python",
   "name": "python",
   "nbconvert_exporter": "python",
   "pygments_lexer": "ipython3",
   "version": "3.11.5"
  }
 },
 "nbformat": 4,
 "nbformat_minor": 5
}
